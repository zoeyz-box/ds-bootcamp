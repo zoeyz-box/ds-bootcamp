{
 "cells": [
  {
   "cell_type": "markdown",
   "metadata": {
    "id": "wYJWiSsa5Zaj"
   },
   "source": [
    "# Week 7: Hypothesis testing\n",
    "#### Data Science Bootcamp\n",
    "\n",
    "\n",
    "\n",
    "\n",
    "---\n",
    "\n"
   ]
  },
  {
   "cell_type": "markdown",
   "metadata": {
    "id": "ez5TFo6n52sg"
   },
   "source": [
    "## Importance of hypothesis testing\n",
    "1. Between 1580 and 1630, approximately 50,000 people were burned at the stake for witchcraft in Europe, mostly women.\n",
    "The Anatomy of witch trial-\n",
    "```\n",
    "Accusation -> Looking for Supporting Evidence -> Torture -> Confession -> Execution\n",
    "```\n",
    "2. [Bloodletting](https://bcmj.org/premise/history-bloodletting) has a 3000 year history as a widely used treatment for most ailments.\n",
    "\n",
    "3. Many more examples..."
   ]
  },
  {
   "cell_type": "markdown",
   "metadata": {
    "id": "iLt2Rl5V7vFS"
   },
   "source": [
    "### Underlying Reason\n",
    "* There is a human tendency to look for evidence in support of what they already believe. Psychologists call this ```confirmation bias```.\n",
    "\n",
    "* It is not conducive to eliciting truth under\n",
    "conditions of uncertainty and variability.\n",
    "\n",
    "* The tendency persists because it is adaptive, not\n",
    "because it leads to truth\n"
   ]
  },
  {
   "cell_type": "markdown",
   "metadata": {
    "id": "cj7LP4fQ9TWW"
   },
   "source": [
    "### What's the way out?\n",
    "Science is a cultural adaptation with the purpose of\n",
    "counteracting the human tendency to seek out\n",
    "confirmation of beliefs that are already held.\n",
    "\n",
    "The framework called ``` Null Hypothesis Significance Testing``` helps us do this.\n",
    "\n",
    "---"
   ]
  },
  {
   "cell_type": "markdown",
   "metadata": {
    "id": "kWkjEDVZ9uHu"
   },
   "source": [
    "# Some Background Material\n",
    "\n",
    "---"
   ]
  },
  {
   "cell_type": "markdown",
   "metadata": {
    "id": "ezTJhziV94zD"
   },
   "source": [
    "### What is a Scientific Experiment?\n",
    "* An “experiment” has a specific meaning in science.\n",
    "* It means that units of analysis (often participants/users) are\n",
    "```randomly``` assigned to different experimental conditions\n",
    "(“treatments”) that you control.\n",
    "* These ```treatments``` are called the independent variable (IV).\n",
    "* The advantage is that this random assignment – given a sufficiently\n",
    "large number of participants – effectively destroys (or “controls for”)\n",
    "all other potential (pre)-existing systematic relationships in the data.\n",
    "Control emerges from randomization.\n",
    "* This systematic intervention while controlling for all other factors by\n",
    "randomization allows to conclude causality by effectively eliminating\n",
    "all possible confounds, known or unknown.\n",
    "* In other words, if one finds systematic differences in the\n",
    "```measurements``` (dependent variable, DV) as a function of the IV, one\n",
    "can conclude that this intervention caused them.\n",
    "* ```So whenever possible, one should do experiments if interested in\n",
    "causality.```"
   ]
  },
  {
   "cell_type": "markdown",
   "metadata": {
    "id": "NjZlqvdc-eX9"
   },
   "source": [
    "### What is Central Limit Theorem?\n",
    "If sampling *randomly* and *independently*,\n",
    "the **sample means** distribute **normally** as the\n",
    "sample size increases, regardless of how the\n",
    "underlying population is distributed"
   ]
  },
  {
   "cell_type": "markdown",
   "metadata": {
    "id": "qFxTPo-qvGtU"
   },
   "source": [
    "Standard error of the mean (SEM) measures how far the sample mean (average) of the data is likely to be from the true population mean. The SEM is always smaller than the SD."
   ]
  },
  {
   "cell_type": "markdown",
   "metadata": {
    "id": "HGqTKDeK_-fx"
   },
   "source": [
    "### What is Statistical Significance?\n",
    "\n",
    "* an observed result is unlikely to be due to chance alone\n",
    "* The probability of the data, assuming that the null hypothesis is\n",
    "true is less than the chosen significance level.\n",
    "\n",
    "```Therefore, it is a statement about the probability of data, and not the hypothesis```\n",
    "\n",
    "\n",
    "This can be confusing!\n",
    "\n",
    "* Naively, science should want: p(Experimental hypothesis | Data)\n",
    "* What science actually computes: p(Data | Null hypothesis)"
   ]
  },
  {
   "cell_type": "markdown",
   "metadata": {
    "id": "9JMyY-eKBt6p"
   },
   "source": [
    "## The Framework\n",
    "1. Formulate Hypotheses: State the null and alternative hypotheses as described above.\n",
    "\n",
    "2. Collect Data: Gather data on blood pressure measurements from both groups.\n",
    "\n",
    "3. Select a Statistical Test: Choose an appropriate statistical test based on the nature of the data and the research question. In this case, you might use a two-sample t-test to compare the means of two independent groups.\n",
    "\n",
    "4. Set Significance Level (α): Determine the significance level, typically set at 0.05.\n",
    "\n",
    "5. Calculate Test Statistic: Compute the test statistic based on the collected data. For a t-test, this would involve calculating the t-value.\n",
    "\n",
    "6. Calculate p-value: Using the test statistic, calculate the p-value, which represents the probability of obtaining the observed results (or more extreme results) under the assumption that the null hypothesis is true.\n",
    "\n",
    "7. Make Decision: Compare the p-value to the significance level. If the p-value is less than α, reject the null hypothesis. If the p-value is greater than α, fail to reject the null hypothesis.\n",
    "\n",
    "8. Draw Conclusion: Based on the decision made in step 7, conclude whether there is statistically significant evidence to support the alternative hypothesis."
   ]
  },
  {
   "cell_type": "markdown",
   "metadata": {
    "id": "TmRCBJk5yP8P"
   },
   "source": [
    "### Example:\n",
    "\n",
    "Suppose you are analyzing the effectiveness of a new drug in reducing blood pressure. You have collected data from two groups: Group A, which received the new drug, and Group B, which received a placebo.\n",
    "\n",
    "Null Hypothesis (H0): The null hypothesis in this scenario would be that there is no difference in mean blood pressure between the group that received the drug (Group A) and the group that received the placebo (Group B). Mathematically, it can be represented as:\n",
    "\n",
    "H0: μA = μB\n",
    "\n",
    "Where:\n",
    "\n",
    "μA represents the population mean blood pressure for Group A.\n",
    "μB represents the population mean blood pressure for Group B.\n",
    "Alternative Hypothesis (Ha): The alternative hypothesis would be that there is a difference in mean blood pressure between the two groups. This could mean that the drug either increases or decreases blood pressure compared to the placebo.\n",
    "\n",
    "Ha: μA ≠ μB\n",
    "\n",
    "Where:\n",
    "\n",
    "μA represents the population mean blood pressure for Group A.\n",
    "μB represents the population mean blood pressure for Group B."
   ]
  },
  {
   "cell_type": "markdown",
   "metadata": {
    "id": "JSCkDl-SCa_W"
   },
   "source": [
    "### How Do We Tell if the Association We Observed is Statistically Significant?\n",
    "\n",
    "Statistical significance is the likelihood that a result or relationship is caused by something other than mere random chance. Statistical hypothesis testing is traditionally employed to determine whether or not a result is statistically significant.\n",
    "\n",
    "We might ask: **How likely is the effect observed to be true, assuming the null hypothesis is true?** If the probability of our observation occurring by chance is less than 5 percent (supposing the null hypothesis), then we reject the null hypothesis. Note that the 5 percent value is in many ways arbitrary — many statisticians require even higher confidence levels.\n",
    "\n",
    "The probability of our observations occurring by chance, given the null hypothesis, is the **pvalue** ($p$).\n",
    "\n",
    "---\n",
    "\n",
    "**Example:** Suppose you flip a coin three times and get three heads in a row. These three flips are our observations.\n",
    "\n",
    "+ We want to know whether or not the coin is fair. So, we select the **null hypothesis: The coin is fair.**\n",
    "+ Now, let's suppose the null hypothesis is true. Three heads in a row occurs with a chance of $1/2^3 \\approx 12.5\\%$.\n",
    "+ Because there is a reasonable ($> 5\\%$) chance of three heads occuring naturally, we reject the null hypothesis.\n",
    "+ So, **we conclude** that we do not have enough data to tell whether or not the coin is fair ($p = 0.125$).\n",
    "\n",
    "---\n",
    "\n",
    "In other words, we say that something is NOT statistically significant if there is a less than 5 percent chance that our finding was caused by chance alone (assuming the null hypothesis is true)."
   ]
  },
  {
   "cell_type": "markdown",
   "metadata": {
    "id": "TLqVX-8RC5gl"
   },
   "source": [
    "## Z test\n",
    "A z-test is typically used in statistical hypothesis testing when you have a large enough sample size (usually n > 30) and you know the population standard deviation. The z-test is based on the standard normal distribution (z-distribution) and is used to assess whether a sample mean is significantly different from a known or hypothesized population mean.\n",
    "\n",
    "This is used to determine if the difference between the meano of a sample and the mean of a population is statistically significant.\n",
    "\n",
    "\n",
    "\n",
    "* To calculate this probability, we convert the\n",
    "sample mean to a test statistic with a known null\n",
    "distribution (distribution given H0 is true).\n",
    "* The p value is the area under this null\n",
    "distribution cut off by the test statistic.\n",
    "* We then compare this value to the decision\n",
    "criterion $\\alpha$"
   ]
  },
  {
   "cell_type": "markdown",
   "metadata": {
    "id": "Z7L0IjV98GjG"
   },
   "source": [
    "### Example:\n",
    "\n",
    "Suppose we have collected a sample of 100 adult males, and we want to determine if their mean height differs significantly from 175 cm.\n",
    "\n",
    "Hypotheses:\n",
    "\n",
    "Null Hypothesis (H0): The population mean height of adult males is equal to 175 cm.\n",
    "Alternative Hypothesis (Ha): The population mean height of adult males is not equal to 175 cm.\n",
    "\n",
    "Data:\n",
    "\n",
    "Sample Mean Height (x̄): 177 cm\n",
    "Population Standard Deviation (σ): 8 cm (assuming we know this value from previous studies)\n",
    "Sample Size (n): 100\n",
    "\n",
    "Calculation:\n",
    "\n",
    "We'll use the Z-test formula to calculate the Z-score:\n",
    "\n",
    "    Z = (x̄ - μ) / (σ / √n)\n",
    "\n",
    "Where:\n",
    "\n",
    "x̄ is the sample mean height (177 cm)\n",
    "μ is the population mean height (175 cm)\n",
    "σ is the population standard deviation (8 cm)\n",
    "n is the sample size (100)\n",
    "\n",
    "Plugging in the values:\n",
    "\n",
    "    Z = (177 - 175) / (8 / √100)\n",
    "\n",
    "    Z = 2 / (8 / 10)\n",
    "\n",
    "    Z = 2 / 0.8\n",
    "\n",
    "    Z = 2.5\n",
    "\n",
    "Decision:\n",
    "\n",
    "Let's assume a significance level (α) of 0.05. We'll look up the critical Z-value from the standard normal distribution table. For a two-tailed test and α = 0.05, the critical Z-value is approximately ±1.96.\n",
    "\n",
    "Since our calculated Z-value (2.5) is greater than 1.96 in magnitude, we **reject the null hypothesis**.\n",
    "\n",
    "Conclusion:\n",
    "\n",
    "Based on our analysis, we have sufficient evidence to conclude that the mean height of the sample of adult males is significantly different from 175 cm, at the 0.05 significance level.\n"
   ]
  },
  {
   "cell_type": "markdown",
   "metadata": {},
   "source": [
    "Link to [Z-table](https://z-table.com)."
   ]
  },
  {
   "cell_type": "markdown",
   "metadata": {
    "id": "Id_U5a3pFY_A"
   },
   "source": [
    "### Why can't we always use z test?"
   ]
  },
  {
   "cell_type": "markdown",
   "metadata": {
    "id": "GUuDkPmSFjZ8"
   },
   "source": [
    "1. It relies on population parameters\n",
    "2. It relies on central limit theorem - it doesn't work for small samples\n",
    "\n",
    "\n",
    "#### So then what?? T Test!\n",
    "\n",
    "Thus, we often use - in practice – the t-test. It is one\n",
    "of the most commonly used parametric tests"
   ]
  },
  {
   "cell_type": "markdown",
   "metadata": {
    "id": "YCGDra94GIpl"
   },
   "source": [
    "## T-Test\n",
    "\n",
    "A t-test is a statistical test used when you want to compare the means of two groups and determine if there is a statistically significant difference between them. It's particularly useful when you have a relatively **small** sample size and the population **standard deviation is unknown**. Here are some common scenarios in which you would use a t-test:\n"
   ]
  },
  {
   "cell_type": "markdown",
   "metadata": {
    "id": "h61XZukzGmnW"
   },
   "source": [
    "### Types of T - Test\n"
   ]
  },
  {
   "cell_type": "code",
   "execution_count": 1,
   "metadata": {
    "colab": {
     "base_uri": "https://localhost:8080/"
    },
    "id": "j8RBW1xvvGtb",
    "outputId": "c27ee77d-52bf-4ae6-d53a-60563214caa9"
   },
   "outputs": [
    {
     "name": "stdout",
     "output_type": "stream",
     "text": [
      "t-statistic: 2.362354462754814, p-value: 0.045789626838043204\n"
     ]
    }
   ],
   "source": [
    "from scipy.stats import ttest_ind\n",
    "\n",
    "group1 = [68, 75, 78, 71, 67]\n",
    "group2 = [-63, -74, -76, 80, 69]\n",
    "t_stat, p_value = ttest_ind(group1, group2)\n",
    "print(f\"t-statistic: {t_stat}, p-value: {p_value}\")\n",
    "#Since p value < 0.05, we can conclude that this difference was not just because of chance and reject the null hypothesis\n",
    "#We can conclude that there is a statistical difference between the two groups"
   ]
  },
  {
   "cell_type": "markdown",
   "metadata": {
    "id": "s-bHhe3b1eBo"
   },
   "source": [
    "## Welch's T-test :"
   ]
  },
  {
   "cell_type": "markdown",
   "metadata": {
    "id": "jO-1kfBo1bsj"
   },
   "source": [
    "The Welch's t-test, also known as Welch's unequal variances t-test, is a statistical test used to compare the means of two independent groups when the assumption of equal variances is violated. It is an adaptation of the Student's t-test that is robust to differences in sample variances and sample sizes between the two groups.\n",
    "\n",
    "When the variances of the two groups are unequal, the standard Student's t-test may not provide accurate results. In such cases, Welch's t-test is preferred because it adjusts for the unequal variances by modifying the degrees of freedom used in the t-distribution."
   ]
  },
  {
   "cell_type": "markdown",
   "metadata": {
    "id": "qE1UMhuR1NON"
   },
   "source": [
    "**Example:**\n",
    "Suppose we want to compare the effectiveness of two different study techniques (A and B) on exam scores. We have collected data from two independent groups of students: Group A (n=20) and Group B (n=25). We want to test whether there is a significant difference in the mean exam scores between the two groups. Here are the summary statistics:\n",
    "\n",
    "Group A:\n",
    "- Sample mean (x̄_A): 75\n",
    "- Sample standard deviation (s_A): 10\n",
    "\n",
    "Group B:\n",
    "- Sample mean (x̄_B): 80\n",
    "- Sample standard deviation (s_B): 8\n",
    "\n",
    "Assuming unequal variances, we will conduct a two-tailed hypothesis test with a significance level of α = 0.05.\n",
    "\n",
    "**Step 1: Formulate Hypotheses:**\n",
    "- Null Hypothesis (H_0): There is no difference in the mean exam scores between Group A and Group B (μ_A = μ_B).\n",
    "- Alternative Hypothesis (H_1): There is a difference in the mean exam scores between Group A and Group B (μ_A ≠ μ_B).\n",
    "\n",
    "**Step 2: Calculate Test Statistic:**\n",
    "We'll use the formula for Welch's t-test:\n",
    "\n",
    "t = (x̄_A - x̄_B) / √(s_A^2/n_A + s_B^2/n_B)\n",
    "\n",
    "Plugging in the values:\n",
    "\n",
    "t ≈ -1.82\n",
    "\n",
    "**Step 3: Calculate Degrees of Freedom:**\n",
    "Using Welch's formula for degrees of freedom:\n",
    "\n",
    "df ≈ 38\n",
    "\n",
    "\n",
    "**Step 4: Determine Critical Value:**\n",
    "At α = 0.05 significance level (two-tailed), the critical value for a t-distribution with 38 degrees of freedom is approximately ±2.024.\n",
    "\n",
    "**Step 5: Make Decision:**\n",
    "Since the test statistic (-1.82) does not exceed the critical value (±2.024), we fail to reject the null hypothesis.\n",
    "\n",
    "**Step 6: Conclusion:**\n",
    "There is not sufficient evidence to conclude that there is a significant difference in the mean exam scores between Group A and Group B at the 0.05 significance level.\n",
    "\n"
   ]
  },
  {
   "cell_type": "markdown",
   "metadata": {
    "id": "kPqUS7-xGwUN"
   },
   "source": [
    "Linking a [good article](https://www.investopedia.com/terms/t/t-test.asp) to understand more about different t - tests.\n",
    "\n",
    "I would also like to mention ```ANOVA``` - Analysis of Variance (ANOVA) is a statistical formula used to compare variances across the means (or average) of different groups. A range of scenarios use it to determine if there is any difference between the means of different groups."
   ]
  },
  {
   "cell_type": "markdown",
   "metadata": {
    "id": "HTUeckNYGwJc"
   },
   "source": [
    "```What about Categorical Data??\n",
    "Does computing mean for categorical data make sense?```"
   ]
  },
  {
   "cell_type": "markdown",
   "metadata": {
    "id": "E-Wf41n6IOGA"
   },
   "source": [
    "## Tests for Categorical Data"
   ]
  },
  {
   "cell_type": "markdown",
   "metadata": {
    "id": "uwyRJ0S2IQ3u"
   },
   "source": [
    "## Chi Square Test\n",
    "Link to [Chi-Square Table](https://math.arizona.edu/~jwatkins/chi-square-table.pdf).\n",
    "* A $χ^2$ test is a significance test for categorical data.\n",
    "* Instead of reducing a dataset to sample statistics (like the\n",
    "mean), it relies on category counts alone.\n",
    "* It is a non parametric test\n",
    "  1. In general, non-parametric tests make fewer assumptions, so\n",
    "they are more versatile.\n",
    "  1.  Drawback: They are usually less powerful than their\n",
    "parametric counterparts"
   ]
  },
  {
   "cell_type": "markdown",
   "metadata": {},
   "source": []
  },
  {
   "cell_type": "markdown",
   "metadata": {
    "id": "PKHjjb3qI2On"
   },
   "source": [
    "### How does $χ^2$ work?\n",
    "1. We compare expected category\n",
    "counts and observed category\n",
    "counts, square the differences and\n",
    "sum them up.\n",
    "\n",
    "\n",
    "![image.png](data:image/png;base64,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)\n",
    "\n",
    "\n",
    "---"
   ]
  },
  {
   "cell_type": "markdown",
   "metadata": {
    "id": "fdccolAsKgcg"
   },
   "source": [
    "### Example:\n",
    "Gender and Voting Preference:\n",
    "\n",
    "Suppose we want to investigate if there is an association between gender and voting preference. We collect data from a random sample of 200 individuals, recording their gender (Male/Female) and voting preference (Candidate A/Candidate B). We then construct a contingency table to analyze the relationship between these two categorical variables.\n",
    "\n",
    "Hypotheses:\n",
    "\n",
    "Null Hypothesis (H0): There is no association between gender and voting preference.\n",
    "Alternative Hypothesis (Ha): There is a significant association between gender and voting preference.\n",
    "\n",
    "**Chi-Square Test for Independence:**\n",
    "\n",
    "**Contingency Table:**\n",
    "\n",
    "|                | Candidate A | Candidate B | Total |\n",
    "|----------------|-------------|-------------|-------|\n",
    "| Male           | 70          | 50          | 120   |\n",
    "| Female         | 30          | 50          | 80    |\n",
    "| Total          | 100         | 100         | 200   |\n",
    "\n",
    "**Expected Frequencies:**\n",
    "\n",
    "|                | Candidate A | Candidate B |\n",
    "|----------------|-------------|-------------|\n",
    "| Male           | 60          | 60          |\n",
    "| Female         | 40          | 40          |\n",
    "\n",
    "**Observed Frequencies:**\n",
    "\n",
    "- Male-Candidate A: 70\n",
    "- Male-Candidate B: 50\n",
    "- Female-Candidate A: 30\n",
    "- Female-Candidate B: 50"
   ]
  },
  {
   "cell_type": "markdown",
   "metadata": {
    "id": "D2S2BFTmKlED"
   },
   "source": [
    "Calculation of Chi-Square Statistic for each cell:\n",
    "\n",
    "**Male-Candidate A:**\n",
    "- Chi-Square = (70 - 60)^2 / 60 ≈ 1.67\n",
    "\n",
    "**Male-Candidate B:**\n",
    "- Chi-Square = (50 - 60)^2 / 60 ≈ 1.67\n",
    "\n",
    "**Female-Candidate A:**\n",
    "- Chi-Square = (30 - 40)^2 / 40 = 2.50\n",
    "\n",
    "**Female-Candidate B:**\n",
    "- Chi-Square = (50 - 40)^2 / 40 = 2.50\n",
    "\n",
    "**Total Chi-Square Statistic:**\n",
    "- Total Chi-Square ≈ 1.67 + 1.67 + 2.50 + 2.50 = 8.34\n"
   ]
  },
  {
   "cell_type": "markdown",
   "metadata": {
    "id": "RP9IruozMGaR"
   },
   "source": [
    "Determine Degrees of Freedom:\n",
    "\n",
    "Degrees of freedom (df) is calculated based on the number of categories in each variable. It's used to determine the critical chi-square value from the chi-square distribution table.df=(r−1)×(c−1)\n",
    "Where:\n",
    "\n",
    "r is the number of rows\n",
    "\n",
    "c is the number of columns\n",
    "\n",
    "In our example,\n",
    "df=(2−1)×(2−1)=1\n",
    "\n"
   ]
  },
  {
   "cell_type": "markdown",
   "metadata": {
    "id": "IVc9IStNMmuD"
   },
   "source": [
    "Therefore, in our example, the critical value is approximately 3.84. If the calculated chi-square statistic exceeds 3.84, we would reject the null hypothesis at the 0.05 significance level. If the calculated chi-square statistic is less than or equal to 3.84, we would fail to reject the null hypothesis."
   ]
  },
  {
   "cell_type": "code",
   "execution_count": null,
   "metadata": {
    "id": "jG2OK6favGte",
    "outputId": "d5e7107f-761a-40ab-b160-39a8d4cdd466"
   },
   "outputs": [
    {
     "name": "stdout",
     "output_type": "stream",
     "text": [
      "Chi-squared: 7.520833333333334, p-value: 0.006098945931214352\n"
     ]
    }
   ],
   "source": [
    "from scipy.stats import chi2_contingency\n",
    "\n",
    "observed = [[50, 50], [30, 70]]\n",
    "chi2, p, _, _ = chi2_contingency(observed)\n",
    "print(f\"Chi-squared: {chi2}, p-value: {p}\")\n"
   ]
  },
  {
   "cell_type": "markdown",
   "metadata": {
    "id": "oi_vrLmNJ7S7"
   },
   "source": [
    "### There are other situations where it is inappropriate to reduce a dataset to its mean.\n",
    "* Key example: Any situation that involves user\n",
    "ratings (movie, music, satisfaction, etc.)\n",
    "* Why?\n",
    "* Because the sample mean is a normalized sum.\n",
    "* A sum presumes that the units of the items being\n",
    "summed are equal in order to be meaningful.\n",
    "* Example: Two movies are rated as 3 and 4 stars by\n",
    "one user, and as 2 and 5 stars by another user.\n",
    "* Is it fair to say that the mean rating is 3.5 for both?\n",
    "* Only if 2 = 1 + 1, 3 = 1 + 1 + 1, and so on.\n",
    "* But is this plausible for movies – that the *psychological* distance between a rating of 2 and\n",
    "3, 3 and 4 and 4 and 5 is identical?\n",
    "---"
   ]
  },
  {
   "cell_type": "markdown",
   "metadata": {
    "id": "JbP3FYl8KvmM"
   },
   "source": [
    "## KS Test\n",
    "\n",
    "The Kolmogorov-Smirnov (KS) test is a nonparametric statistical test used to determine whether two samples are drawn from the same probability distribution or whether a sample is drawn from a specific distribution. It's particularly useful when you don't know the underlying distribution of your data or when you want to compare two samples without making assumptions about their distributions.\n",
    "\n",
    "* No comparisons of means *or* medians.\n",
    "* Tests whether the underlying distributions are\n",
    "the same (whatever they might be)\n",
    "* Simply comparing the cumulative distribution\n",
    "function of samples.\n",
    "* In that sense, the Kolmogorov-Smirnov (or KS)\n",
    "test is a goodness-of-fit test."
   ]
  },
  {
   "cell_type": "markdown",
   "metadata": {
    "id": "ZP5Keae3Lo-O"
   },
   "source": [
    "* Plot the cumulative\n",
    "distribution functions for\n",
    "the two empirical samples.\n",
    "* Find the point of largest\n",
    "separation (“D”).\n",
    "* This is the test statistic.\n",
    "* The D distribution under\n",
    "the null is known, à\n",
    "convert that to a p-value.\n",
    "\n",
    "![image.png](data:image/png;base64,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)"
   ]
  },
  {
   "cell_type": "code",
   "execution_count": 2,
   "metadata": {
    "colab": {
     "base_uri": "https://localhost:8080/"
    },
    "id": "4aZFqzlWvGtg",
    "outputId": "34798720-42ae-4808-c5e4-9c2ab5fd6a7f"
   },
   "outputs": [
    {
     "name": "stdout",
     "output_type": "stream",
     "text": [
      "0.8667717341286251\n",
      "KS statistic: 0.0582486387238324\n",
      "Fail to reject the null hypothesis: The data follows a normal distribution.\n"
     ]
    }
   ],
   "source": [
    "import numpy as np\n",
    "from scipy.stats import kstest, norm\n",
    "\n",
    "# Generate a sample data set that follows a normal distribution\n",
    "np.random.seed(0)\n",
    "sample_data = np.random.normal(loc=0, scale=1, size=100)\n",
    "\n",
    "# Perform the KS test to test if the data follows a normal distribution\n",
    "ks_statistic, p_value = kstest(sample_data, 'norm')\n",
    "\n",
    "# Define the significance level (alpha)\n",
    "alpha = 0.05\n",
    "print(p_value)\n",
    "# Compare the p-value to the significance level\n",
    "if p_value < alpha:\n",
    "    print(f\"KS statistic: {ks_statistic}\")\n",
    "    print(\"Reject the null hypothesis: The data does not follow a normal distribution.\")\n",
    "else:\n",
    "    print(f\"KS statistic: {ks_statistic}\")\n",
    "    print(\"Fail to reject the null hypothesis: The data follows a normal distribution.\")\n"
   ]
  },
  {
   "cell_type": "markdown",
   "metadata": {
    "id": "2oL2EmzN2vMU"
   },
   "source": [
    "## Mann Whitney U Test"
   ]
  },
  {
   "cell_type": "markdown",
   "metadata": {
    "id": "Az-ZQ6--2yFD"
   },
   "source": [
    "The Mann-Whitney U test, also known as the Mann-Whitney-Wilcoxon test or Wilcoxon **rank-sum test**, is a non-parametric statistical test used to compare two independent groups when the assumption of normality is violated or when the data is ordinal or skewed. It is used to determine if there is a significant difference between the distributions of two groups.\n",
    "\n",
    "Here's how the Mann-Whitney U test works:\n",
    "\n",
    "Ranking Data:\n",
    "\n",
    "Combine the data from both groups and rank them from lowest to highest, assigning a rank to each observation. Ties are given the average of the ranks they would occupy if not tied.\n",
    "Calculating the U Statistic:\n",
    "\n",
    "Calculate the U statistic for each group, which represents the sum of the ranks of the observations in that group.\n",
    "The U statistic for Group 1 is the sum of ranks assigned to the observations in Group 1.\n",
    "The U statistic for Group 2 is the sum of ranks assigned to the observations in Group 2.\n",
    "Determine the Test Statistic:\n",
    "\n",
    "The test statistic for the Mann-Whitney U test is the smaller of the two U statistics. It represents the probability that a randomly selected observation from Group 1 will have a lower rank than a randomly selected observation from Group 2.\n",
    "Calculate the p-value:\n",
    "\n",
    "Using the test statistic, calculate the p-value from the distribution of the U statistic under the null hypothesis.\n",
    "\n",
    "Make a Decision:\n",
    "\n",
    "Compare the p-value to the significance level (α) to make a decision about the null hypothesis.\n",
    "If the p-value is less than or equal to α, reject the null hypothesis and conclude that there is a significant difference between the two groups.\n",
    "If the p-value is greater than α, fail to reject the null hypothesis and conclude that there is not enough evidence to suggest a significant difference between the two groups.\n",
    "\n",
    "The Mann-Whitney U test does not require the assumption of normality and is robust to outliers and skewed distributions. It is commonly used in situations where parametric tests like the t-test are not appropriate, such as when the data is ordinal or when sample sizes are small"
   ]
  },
  {
   "cell_type": "markdown",
   "metadata": {
    "id": "rjdf-NdK3ngY"
   },
   "source": [
    "\n",
    "Sure! Let's work through a simple example of the Mann-Whitney U test with calculations.\n",
    "\n",
    "Example:\n",
    "Suppose we want to compare the effectiveness of two different training programs (Program A and Program B) in improving employee performance. We have collected performance scores from two groups of employees: Group A (n=10) who underwent Program A, and Group B (n=12) who underwent Program B. The performance scores are as follows:\n",
    "\n",
    "Group A: [60, 72, 65, 70, 68, 75, 62, 58, 67, 71]\n",
    "Group B: [55, 63, 68, 70, 58, 62, 64, 69, 67, 65, 71, 59]\n",
    "\n",
    "Step 1: Ranking Data:\n",
    "Combine the data from both groups and rank them from lowest to highest, assigning a rank to each observation. Ties are given the average of the ranks they would occupy if not tied.\n",
    "\n",
    "Sorted combined data: [55, 58, 58, 59, 60, 62, 62, 63, 64, 65, 65, 67, 67, 68, 68, 69, 70, 70, 71, 71, 75]\n",
    "\n",
    "Ranks: [1, 2.5, 2.5, 4, 5, 6.5, 6.5, 8, 9, 10.5, 10.5, 12.5, 12.5, 14, 14, 16, 17, 17, 19, 19, 21]\n",
    "\n",
    "Step 2: Calculating the U Statistic:\n",
    "Calculate the U statistic for each group, which represents the sum of the ranks of the observations in that group.\n",
    "\n",
    "For Group A:\n",
    "U_A = sum of ranks assigned to observations in Group A = 1 + 6.5 + 10.5 + 12.5 + 17 + 19 + 6.5 + 2.5 + 14 + 12.5 = **102.5**\n",
    "\n",
    "For Group B:\n",
    "U_B = sum of ranks assigned to observations in Group B = 3 + 8 + 14 + 17 + 6.5 + 9 + 11 + 15 + 12.5 + 10.5 + 19 + 5 = **129.5**\n",
    "\n",
    "Step 3: Determine the Test Statistic:\n",
    "The test statistic for the Mann-Whitney U test is the smaller of the two U statistics. In this case, U_A = 102.5 and U_B = 129.5, so the test statistic is U = min(U_A, U_B) = **102.5**.\n",
    "\n",
    "Step 4: Calculate the p-value:\n",
    "Using the test statistic, calculate the p-value from the distribution of the U statistic under the null hypothesis.\n",
    "\n",
    "For small sample sizes, the p-value can be calculated using tables or statistical software. Let's assume we obtain a **p-value of 0.03**.\n",
    "\n",
    "Step 5: Make a Decision:\n",
    "Compare the p-value to the significance level (α). If α = 0.05, since the p-value (0.03) is less than α, we reject the null hypothesis.\n",
    "\n",
    "Step 6: Conclusion:\n",
    "Based on the Mann-Whitney U test, we have sufficient evidence to conclude that there is a significant difference in performance scores between employees who underwent Program A and those who underwent Program B."
   ]
  },
  {
   "cell_type": "markdown",
   "metadata": {
    "id": "zrnW5zTA0cOi"
   },
   "source": [
    "## Practice Questions\n",
    "1. How do you assess the statistical significance of an insight?\n",
    "2. What is the Central Limit Theorem? Explain it. Why is it important?\n",
    "3. What is the statistical power?\n",
    "4. How do you control for biases?\n",
    "5. What are confounding variables?\n",
    "6. What is A/B testing?\n",
    "7. What are confidence intervals?"
   ]
  },
  {
   "cell_type": "code",
   "execution_count": 1,
   "metadata": {
    "id": "-hv7ybVl931d"
   },
   "outputs": [],
   "source": [
    "# 1. You can assess the statistical significance of an insight by testing whether is a result or relationship is caused by something \n",
    "# other than mere random chance. This can be done through statistical hypothesis testing and calculating the p-value.\n",
    "# 2. The CLT says that the sample means distribute normally as the sample size increases, if sampling randomly and independently.\n",
    "# This is true regardless of how the underlying population is distributed. This is important because it works well with large samples of data.\n",
    "# 3. Statistical power is the likelihood of accurately rejecting the null hypothesis in the event that the alternative hypothesis is true.\n",
    "# 4. You can do randomization, normalization, and generally be aware of the potential biases.\n",
    "# 5. Confounding variables are factors influencing both ind. and dep. variables, resulting in misleading association. \n",
    "# 6. You compare A and B variants to determine which one performs better using a specific measure. \n",
    "# 7. Confidence intervals are a range of values wherein the true population parameter will likely lie with a given probability. It can assess statistical\n",
    "# significance without relying on p-values."
   ]
  }
 ],
 "metadata": {
  "colab": {
   "provenance": []
  },
  "kernelspec": {
   "display_name": "Python 3 (ipykernel)",
   "language": "python",
   "name": "python3"
  },
  "language_info": {
   "codemirror_mode": {
    "name": "ipython",
    "version": 3
   },
   "file_extension": ".py",
   "mimetype": "text/x-python",
   "name": "python",
   "nbconvert_exporter": "python",
   "pygments_lexer": "ipython3",
   "version": "3.13.0"
  }
 },
 "nbformat": 4,
 "nbformat_minor": 4
}
